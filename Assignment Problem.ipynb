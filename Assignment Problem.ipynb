{
 "cells": [
  {
   "cell_type": "code",
   "execution_count": 7,
   "id": "49308f31-ae7e-43b2-aa0c-2aa092012570",
   "metadata": {},
   "outputs": [
    {
     "name": "stdout",
     "output_type": "stream",
     "text": [
      "Optimal Assignment:\n",
      "Task 1 is assigned to Agent 1\n",
      "Task 2 is assigned to Agent 2\n",
      "Task 3 is assigned to Agent 3\n"
     ]
    }
   ],
   "source": [
    "import numpy as np\n",
    "from scipy.optimize import linear_sum_assignment\n",
    "\n",
    "cost_matrix = np.array([\n",
    "    [10, 15, 20],\n",
    "    [25, 30, 35],\n",
    "    [40, 45, 50]\n",
    "])\n",
    "\n",
    "row_indices, col_indices = linear_sum_assignment(cost_matrix)\n",
    "\n",
    "# Print the optimal assignment\n",
    "print(\"Optimal Assignment:\")\n",
    "for i, j in zip(row_indices, col_indices):\n",
    "    print(f\"Task {i + 1} is assigned to Agent {j + 1}\")\n"
   ]
  },
  {
   "cell_type": "code",
   "execution_count": null,
   "id": "8206dad6-66f3-4cf9-b477-d42b8dcca658",
   "metadata": {},
   "outputs": [],
   "source": []
  }
 ],
 "metadata": {
  "kernelspec": {
   "display_name": "Python 3 (ipykernel)",
   "language": "python",
   "name": "python3"
  },
  "language_info": {
   "codemirror_mode": {
    "name": "ipython",
    "version": 3
   },
   "file_extension": ".py",
   "mimetype": "text/x-python",
   "name": "python",
   "nbconvert_exporter": "python",
   "pygments_lexer": "ipython3",
   "version": "3.11.4"
  }
 },
 "nbformat": 4,
 "nbformat_minor": 5
}
